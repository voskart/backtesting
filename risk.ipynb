{
 "cells": [
  {
   "cell_type": "markdown",
   "metadata": {},
   "source": [
    "# Risk\n",
    "\n",
    "### VaR (Value at Risk)\n",
    "\n",
    "We cannot eliminate market risk but we can reduce it through various means. The most popular way of accomplishing that is through diversification. Given that our strategy is market-neutral, we should be still protected even in case of a market breakdown. We can measure said risk by using VaR which calculates the maximum potential loss a portfolio could experience within a timeframe."
   ]
  },
  {
   "cell_type": "code",
   "execution_count": 20,
   "metadata": {},
   "outputs": [
    {
     "name": "stdout",
     "output_type": "stream",
     "text": [
      "The VaR on a daily basis for our strategy is $61448.87 with a 99% confidence\n"
     ]
    }
   ],
   "source": [
    "import polars as pl\n",
    "import numpy as np\n",
    "import matplotlib.pyplot as plt\n",
    "from scipy.stats import norm\n",
    "\n",
    "df_returns = pl.read_csv('./data/strat/returns.csv')\n",
    "\n",
    "trade_pnl = df_returns['trade_pnl'].to_numpy()\n",
    "\n",
    "# initial portfolio value of 1m USD\n",
    "aum = 1_000_000\n",
    "mu = np.mean(trade_pnl)\n",
    "sigma = np.std(trade_pnl)\n",
    "alpha = norm.ppf(1-0.99, mu, sigma)\n",
    "\n",
    "print(f\"The VaR on a daily basis for our strategy is ${aum-aum*(alpha+1):2.2f} with a 99% confidence\")"
   ]
  },
  {
   "cell_type": "markdown",
   "metadata": {},
   "source": [
    "### CVaR (Conditional Value at Risk)\n",
    "\n",
    "Next, we could also explore the conditional value at risk, or expected shortfall which refers to the worst q% of cases over a specific time period. It really is just the tail risk.\n",
    "\n",
    "$$ES_{\\alpha} (X) = -\\frac{1}{\\alpha} \\int_{0}^{\\alpha} VaR \\gamma (X) d\\gamma$$\n"
   ]
  },
  {
   "cell_type": "code",
   "execution_count": 21,
   "metadata": {},
   "outputs": [
    {
     "name": "stdout",
     "output_type": "stream",
     "text": [
      "The CVaR for our strategy is -1.08% with a 99% confidence\n"
     ]
    }
   ],
   "source": [
    "# order trade pnl, in this case not very interesting\n",
    "sorted = np.sort(trade_pnl)\n",
    "cvar_index = int((1-0.99) * len(sorted))\n",
    "\n",
    "# mean at the cutoff index\n",
    "cvar = np.mean(sorted[:cvar_index])\n",
    "\n",
    "print(f\"The CVaR for our strategy is {cvar*100:2.2f}% with a 99% confidence\")"
   ]
  },
  {
   "cell_type": "markdown",
   "metadata": {},
   "source": [
    "### Maximum Drawdown\n",
    "\n",
    "Given the limited data set and, consequently, the number of trades, the maximum drawdown of the strategy is somewhat limited. In our case, we had one losing trade and the maximum drawdown was -17.2% which completely recovered in February 2024, or after 3 months."
   ]
  },
  {
   "cell_type": "code",
   "execution_count": 33,
   "metadata": {},
   "outputs": [
    {
     "data": {
      "image/png": "[encoded data removed]",
      "text/plain": [
       "<Figure size 640x480 with 1 Axes>"
      ]
     },
     "metadata": {},
     "output_type": "display_data"
    }
   ],
   "source": [
    "df_returns = df_returns.with_columns(\n",
    "    roll_max = pl.col('cumulative_pnl').cum_max()\n",
    ").with_columns(\n",
    "    drawdown = pl.col('cumulative_pnl')/pl.col('roll_max') - 1.0\n",
    ")\n",
    "\n",
    "plt.plot(df_returns['date'], df_returns['cumulative_pnl'])\n",
    "plt.plot(df_returns['date'], df_returns['drawdown'])\n",
    "ax = plt.gca()\n",
    "\n",
    "#hide x-axis\n",
    "ax.get_xaxis().set_visible(False)\n",
    "plt.show()"
   ]
  }
 ],
 "metadata": {
  "kernelspec": {
   "display_name": ".venv",
   "language": "python",
   "name": "python3"
  },
  "language_info": {
   "codemirror_mode": {
    "name": "ipython",
    "version": 3
   },
   "file_extension": ".py",
   "mimetype": "text/x-python",
   "name": "python",
   "nbconvert_exporter": "python",
   "pygments_lexer": "ipython3",
   "version": "3.11.5"
  }
 },
 "nbformat": 4,
 "nbformat_minor": 2
}
