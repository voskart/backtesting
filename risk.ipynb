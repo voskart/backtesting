{
 "cells": [
  {
   "cell_type": "markdown",
   "metadata": {},
   "source": [
    "# Risk\n",
    "\n",
    "### VaR (Value at Risk)\n",
    "\n",
    "We cannot eliminate market risk but we can reduce it through various means. The most popular way of accomplishing that is through diversification. Given that our strategy is market-neutral, we should be still protected even in case of a market breakdown. We can measure said risk by using VaR which calculates the maximum potential loss a portfolio could experience within a timeframe."
   ]
  },
  {
   "cell_type": "code",
   "execution_count": 3,
   "metadata": {},
   "outputs": [
    {
     "name": "stdout",
     "output_type": "stream",
     "text": [
      "The VaR on a daily basis for our strategy is $61241.57 with a 99% confidence\n"
     ]
    }
   ],
   "source": [
    "import polars as pl\n",
    "import numpy as np\n",
    "import matplotlib.pyplot as plt\n",
    "from scipy.stats import norm\n",
    "\n",
    "df_returns = pl.read_csv('./data/strat/returns.csv')\n",
    "\n",
    "trade_pnl = df_returns['trade_pnl'].to_numpy()\n",
    "\n",
    "# initial portfolio value of 1m USD\n",
    "aum = 1_000_000\n",
    "mu = np.mean(trade_pnl)\n",
    "sigma = np.std(trade_pnl)\n",
    "alpha = norm.ppf(1-0.99, mu, sigma)\n",
    "\n",
    "print(f\"The VaR on a daily basis for our strategy is ${aum-aum*(alpha+1):2.2f} with a 99% confidence\")"
   ]
  },
  {
   "cell_type": "markdown",
   "metadata": {},
   "source": [
    "### CVaR (Conditional Value at Risk)\n",
    "\n",
    "Next, we could also explore the conditional value at risk, or expected shortfall which refers to the worst q% of cases over a specific time period. It really is just the tail risk.\n",
    "\n",
    "$$ES_{\\alpha} (X) = -\\frac{1}{\\alpha} \\int_{0}^{\\alpha} VaR \\gamma (X) d\\gamma$$\n"
   ]
  },
  {
   "cell_type": "code",
   "execution_count": 4,
   "metadata": {},
   "outputs": [
    {
     "name": "stdout",
     "output_type": "stream",
     "text": [
      "The CVaR for our strategy is -1.11% with a 99% confidence\n"
     ]
    }
   ],
   "source": [
    "# order trade pnl, in this case not very interesting\n",
    "sorted = np.sort(trade_pnl)\n",
    "cvar_index = int((1-0.99) * len(sorted))\n",
    "\n",
    "# mean at the cutoff index\n",
    "cvar = np.mean(sorted[:cvar_index])\n",
    "\n",
    "print(f\"The CVaR for our strategy is {cvar*100:2.2f}% with a 99% confidence\")"
   ]
  },
  {
   "cell_type": "markdown",
   "metadata": {},
   "source": [
    "### Maximum Drawdown\n",
    "\n",
    "Given the limited data set and, consequently, the number of trades, the maximum drawdown of the strategy is somewhat limited. In our case, we had one losing trade and the maximum drawdown was -17.2% which completely recovered in February 2024, or after 3 months."
   ]
  },
  {
   "cell_type": "code",
   "execution_count": 6,
   "metadata": {},
   "outputs": [
    {
     "data": {
      "image/png": "[encoded data removed]",
      "text/plain": [
       "<Figure size 640x480 with 1 Axes>"
      ]
     },
     "metadata": {},
     "output_type": "display_data"
    },
    {
     "data": {
      "text/html": [
       "<div><style>\n",
       ".dataframe > thead > tr,\n",
       ".dataframe > tbody > tr {\n",
       "  text-align: right;\n",
       "  white-space: pre-wrap;\n",
       "}\n",
       "</style>\n",
       "<small>shape: (362, 11)</small><table border=\"1\" class=\"dataframe\"><thead><tr><th>descr</th><th>bitcoin-cash</th><th>dogecoin</th><th>z</th><th>x_dif</th><th>y_dif</th><th>trade_pnl</th><th>date</th><th>cumulative_pnl</th><th>roll_max</th><th>drawdown</th></tr><tr><td>str</td><td>f64</td><td>f64</td><td>f64</td><td>f64</td><td>f64</td><td>f64</td><td>str</td><td>f64</td><td>f64</td><td>f64</td></tr></thead><tbody><tr><td>&quot;short&quot;</td><td>230.119965</td><td>0.074764</td><td>1.041103</td><td>0.007587</td><td>-0.000179</td><td>-0.001</td><td>&quot;2023-08-15&quot;</td><td>-0.001</td><td>-0.001</td><td>0.0</td></tr><tr><td>null</td><td>0.0</td><td>0.0</td><td>0.0</td><td>0.0</td><td>0.0</td><td>0.0</td><td>&quot;2023-08-16&quot;</td><td>-0.001</td><td>-0.001</td><td>0.0</td></tr><tr><td>null</td><td>0.0</td><td>0.0</td><td>0.0</td><td>0.0</td><td>0.0</td><td>0.0</td><td>&quot;2023-08-17&quot;</td><td>-0.001</td><td>-0.001</td><td>0.0</td></tr><tr><td>&quot;close short&quot;</td><td>183.800461</td><td>0.061057</td><td>-0.694186</td><td>-0.201284</td><td>-0.183337</td><td>0.016948</td><td>&quot;2023-08-18&quot;</td><td>0.015948</td><td>0.015948</td><td>0.0</td></tr><tr><td>&quot;long&quot;</td><td>187.278076</td><td>0.063189</td><td>-1.341707</td><td>0.018921</td><td>0.034913</td><td>-0.001</td><td>&quot;2023-08-19&quot;</td><td>0.014948</td><td>0.015948</td><td>-0.062706</td></tr><tr><td>&hellip;</td><td>&hellip;</td><td>&hellip;</td><td>&hellip;</td><td>&hellip;</td><td>&hellip;</td><td>&hellip;</td><td>&hellip;</td><td>&hellip;</td><td>&hellip;</td><td>&hellip;</td></tr><tr><td>null</td><td>0.0</td><td>0.0</td><td>0.0</td><td>0.0</td><td>0.0</td><td>0.0</td><td>&quot;2024-08-06&quot;</td><td>1.385465</td><td>1.386465</td><td>-0.000721</td></tr><tr><td>null</td><td>0.0</td><td>0.0</td><td>0.0</td><td>0.0</td><td>0.0</td><td>0.0</td><td>&quot;2024-08-07&quot;</td><td>1.385465</td><td>1.386465</td><td>-0.000721</td></tr><tr><td>null</td><td>0.0</td><td>0.0</td><td>0.0</td><td>0.0</td><td>0.0</td><td>0.0</td><td>&quot;2024-08-08&quot;</td><td>1.385465</td><td>1.386465</td><td>-0.000721</td></tr><tr><td>null</td><td>0.0</td><td>0.0</td><td>0.0</td><td>0.0</td><td>0.0</td><td>0.0</td><td>&quot;2024-08-09&quot;</td><td>1.385465</td><td>1.386465</td><td>-0.000721</td></tr><tr><td>&quot;close short&quot;</td><td>346.583252</td><td>0.103823</td><td>0.732035</td><td>-0.211664</td><td>-0.191192</td><td>0.019472</td><td>&quot;2024-08-10&quot;</td><td>1.404937</td><td>1.404937</td><td>0.0</td></tr></tbody></table></div>"
      ],
      "text/plain": [
       "shape: (362, 11)\n",
       "┌───────┬─────────────┬──────────┬───────────┬───┬─────────────┬────────────┬──────────┬───────────┐\n",
       "│ descr ┆ bitcoin-cas ┆ dogecoin ┆ z         ┆ … ┆ date        ┆ cumulative ┆ roll_max ┆ drawdown  │\n",
       "│ ---   ┆ h           ┆ ---      ┆ ---       ┆   ┆ ---         ┆ _pnl       ┆ ---      ┆ ---       │\n",
       "│ str   ┆ ---         ┆ f64      ┆ f64       ┆   ┆ str         ┆ ---        ┆ f64      ┆ f64       │\n",
       "│       ┆ f64         ┆          ┆           ┆   ┆             ┆ f64        ┆          ┆           │\n",
       "╞═══════╪═════════════╪══════════╪═══════════╪═══╪═════════════╪════════════╪══════════╪═══════════╡\n",
       "│ short ┆ 230.119965  ┆ 0.074764 ┆ 1.041103  ┆ … ┆ 2023-08-15  ┆ -0.001     ┆ -0.001   ┆ 0.0       │\n",
       "│ null  ┆ 0.0         ┆ 0.0      ┆ 0.0       ┆ … ┆ 2023-08-16  ┆ -0.001     ┆ -0.001   ┆ 0.0       │\n",
       "│ null  ┆ 0.0         ┆ 0.0      ┆ 0.0       ┆ … ┆ 2023-08-17  ┆ -0.001     ┆ -0.001   ┆ 0.0       │\n",
       "│ close ┆ 183.800461  ┆ 0.061057 ┆ -0.694186 ┆ … ┆ 2023-08-18  ┆ 0.015948   ┆ 0.015948 ┆ 0.0       │\n",
       "│ short ┆             ┆          ┆           ┆   ┆             ┆            ┆          ┆           │\n",
       "│ long  ┆ 187.278076  ┆ 0.063189 ┆ -1.341707 ┆ … ┆ 2023-08-19  ┆ 0.014948   ┆ 0.015948 ┆ -0.062706 │\n",
       "│ …     ┆ …           ┆ …        ┆ …         ┆ … ┆ …           ┆ …          ┆ …        ┆ …         │\n",
       "│ null  ┆ 0.0         ┆ 0.0      ┆ 0.0       ┆ … ┆ 2024-08-06  ┆ 1.385465   ┆ 1.386465 ┆ -0.000721 │\n",
       "│ null  ┆ 0.0         ┆ 0.0      ┆ 0.0       ┆ … ┆ 2024-08-07  ┆ 1.385465   ┆ 1.386465 ┆ -0.000721 │\n",
       "│ null  ┆ 0.0         ┆ 0.0      ┆ 0.0       ┆ … ┆ 2024-08-08  ┆ 1.385465   ┆ 1.386465 ┆ -0.000721 │\n",
       "│ null  ┆ 0.0         ┆ 0.0      ┆ 0.0       ┆ … ┆ 2024-08-09  ┆ 1.385465   ┆ 1.386465 ┆ -0.000721 │\n",
       "│ close ┆ 346.583252  ┆ 0.103823 ┆ 0.732035  ┆ … ┆ 2024-08-10  ┆ 1.404937   ┆ 1.404937 ┆ 0.0       │\n",
       "│ short ┆             ┆          ┆           ┆   ┆             ┆            ┆          ┆           │\n",
       "└───────┴─────────────┴──────────┴───────────┴───┴─────────────┴────────────┴──────────┴───────────┘"
      ]
     },
     "execution_count": 6,
     "metadata": {},
     "output_type": "execute_result"
    }
   ],
   "source": [
    "df_returns = df_returns.with_columns(\n",
    "    roll_max = pl.col('cumulative_pnl').cum_max()\n",
    ").with_columns(\n",
    "    drawdown = pl.col('cumulative_pnl')/pl.col('roll_max') - 1.0\n",
    ")\n",
    "\n",
    "plt.plot(df_returns['date'], df_returns['cumulative_pnl'])\n",
    "plt.plot(df_returns['date'], df_returns['drawdown'])\n",
    "ax = plt.gca()\n",
    "\n",
    "#hide x-axis\n",
    "ax.get_xaxis().set_visible(False)\n",
    "plt.show()"
   ]
  }
 ],
 "metadata": {
  "kernelspec": {
   "display_name": ".venv",
   "language": "python",
   "name": "python3"
  },
  "language_info": {
   "codemirror_mode": {
    "name": "ipython",
    "version": 3
   },
   "file_extension": ".py",
   "mimetype": "text/x-python",
   "name": "python",
   "nbconvert_exporter": "python",
   "pygments_lexer": "ipython3",
   "version": "3.11.5"
  }
 },
 "nbformat": 4,
 "nbformat_minor": 2
}
