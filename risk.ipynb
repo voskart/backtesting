{
 "cells": [
  {
   "cell_type": "markdown",
   "metadata": {},
   "source": [
    "# Risk\n",
    "\n",
    "### VaR (Value at Risk)\n",
    "\n",
    "We cannot eliminate market risk but we can reduce it through various means. The most popular way of accomplishing that is through diversification. Given that our strategy is market-neutral, we should be still protected even in case of a market breakdown. We can measure said risk by using VaR which calculates the maximum potential loss a portfolio could experience within a timeframe."
   ]
  },
  {
   "cell_type": "code",
   "execution_count": 7,
   "metadata": {},
   "outputs": [
    {
     "name": "stdout",
     "output_type": "stream",
     "text": [
      "The VaR on a daily basis for our strategy is $61449.86 with a 99% confidence\n"
     ]
    }
   ],
   "source": [
    "import polars as pl\n",
    "import numpy as np\n",
    "from scipy.stats import norm\n",
    "\n",
    "df_returns = pl.read_csv('./data/strat/returns.csv')\n",
    "\n",
    "trade_pnl = df_returns['trade_pnl'].to_numpy()\n",
    "\n",
    "# initial portfolio value of 1m USD\n",
    "aum = 1_000_000\n",
    "mu = np.mean(trade_pnl)\n",
    "sigma = np.std(trade_pnl)\n",
    "alpha = norm.ppf(1-0.99, mu, sigma)\n",
    "\n",
    "print(f\"The VaR on a daily basis for our strategy is ${aum-aum*(alpha+1):2.2f} with a 99% confidence\")"
   ]
  },
  {
   "cell_type": "markdown",
   "metadata": {},
   "source": [
    "### CVaR (Conditional Value at Risk)\n",
    "\n",
    "Next, we could also explore the conditional value at risk, or expected shortfall which refers to the worst q% of cases over a specific time period. It really is just the tail risk.\n",
    "\n",
    "$$ES_{\\alpha} (X) = -\\frac{1}{\\alpha} \\int_{0}^{\\alpha} VaR \\gamma (X) d\\gamma$$\n"
   ]
  },
  {
   "cell_type": "code",
   "execution_count": 18,
   "metadata": {},
   "outputs": [
    {
     "name": "stdout",
     "output_type": "stream",
     "text": [
      "The CVaR for our strategy is -1.01% with a 99% confidence\n"
     ]
    }
   ],
   "source": [
    "# order trade pnl, in this case not very interesting\n",
    "sorted = np.sort(trade_pnl)\n",
    "cvar_index = int((1-0.99) * len(sorted))\n",
    "\n",
    "# mean at the cutoff index\n",
    "cvar = np.mean(sorted[:cvar_index])\n",
    "\n",
    "print(f\"The CVaR for our strategy is {cvar*100:2.2f}% with a 99% confidence\")"
   ]
  },
  {
   "cell_type": "markdown",
   "metadata": {},
   "source": [
    "### Maximum Drawdown\n",
    "\n",
    "Given the limited data set and, consequently, the number of trades, the maximum drawdown of the strategy is somewhat limited. In our case, we had one losing trade and the maximum drawdown was -15.7% which completely recovered in February 2024, or after 3 months."
   ]
  },
  {
   "cell_type": "code",
   "execution_count": 39,
   "metadata": {},
   "outputs": [
    {
     "data": {
      "text/html": [
       "<div><style>\n",
       ".dataframe > thead > tr,\n",
       ".dataframe > tbody > tr {\n",
       "  text-align: right;\n",
       "  white-space: pre-wrap;\n",
       "}\n",
       "</style>\n",
       "<small>shape: (98, 11)</small><table border=\"1\" class=\"dataframe\"><thead><tr><th>descr</th><th>bitcoin-cash</th><th>dogecoin</th><th>z</th><th>x_dif</th><th>y_dif</th><th>trade_pnl</th><th>date</th><th>cumulative_pnl</th><th>drawdown</th><th>roll_max</th></tr><tr><td>str</td><td>f64</td><td>f64</td><td>f64</td><td>f64</td><td>f64</td><td>f64</td><td>str</td><td>f64</td><td>f64</td><td>f64</td></tr></thead><tbody><tr><td>&quot;close short&quot;</td><td>238.503769</td><td>0.071241</td><td>-0.235986</td><td>0.198633</td><td>0.168271</td><td>-0.030363</td><td>&quot;2023-11-06&quot;</td><td>0.163187</td><td>-0.156873</td><td>0.19355</td></tr><tr><td>null</td><td>0.0</td><td>0.0</td><td>0.0</td><td>0.0</td><td>0.0</td><td>0.0</td><td>&quot;2023-11-07&quot;</td><td>0.163187</td><td>-0.156873</td><td>0.19355</td></tr><tr><td>&quot;long&quot;</td><td>246.020996</td><td>0.075554</td><td>-0.516764</td><td>0.031518</td><td>0.060551</td><td>0.0</td><td>&quot;2023-11-08&quot;</td><td>0.163187</td><td>-0.156873</td><td>0.19355</td></tr><tr><td>null</td><td>0.0</td><td>0.0</td><td>0.0</td><td>0.0</td><td>0.0</td><td>0.0</td><td>&quot;2023-11-09&quot;</td><td>0.163187</td><td>-0.156873</td><td>0.19355</td></tr><tr><td>null</td><td>0.0</td><td>0.0</td><td>0.0</td><td>0.0</td><td>0.0</td><td>0.0</td><td>&quot;2023-11-10&quot;</td><td>0.163187</td><td>-0.156873</td><td>0.19355</td></tr><tr><td>&hellip;</td><td>&hellip;</td><td>&hellip;</td><td>&hellip;</td><td>&hellip;</td><td>&hellip;</td><td>&hellip;</td><td>&hellip;</td><td>&hellip;</td><td>&hellip;</td><td>&hellip;</td></tr><tr><td>null</td><td>0.0</td><td>0.0</td><td>0.0</td><td>0.0</td><td>0.0</td><td>0.0</td><td>&quot;2024-02-07&quot;</td><td>0.16605</td><td>-0.14208</td><td>0.19355</td></tr><tr><td>null</td><td>0.0</td><td>0.0</td><td>0.0</td><td>0.0</td><td>0.0</td><td>0.0</td><td>&quot;2024-02-08&quot;</td><td>0.16605</td><td>-0.14208</td><td>0.19355</td></tr><tr><td>null</td><td>0.0</td><td>0.0</td><td>0.0</td><td>0.0</td><td>0.0</td><td>0.0</td><td>&quot;2024-02-09&quot;</td><td>0.16605</td><td>-0.14208</td><td>0.19355</td></tr><tr><td>null</td><td>0.0</td><td>0.0</td><td>0.0</td><td>0.0</td><td>0.0</td><td>0.0</td><td>&quot;2024-02-10&quot;</td><td>0.16605</td><td>-0.14208</td><td>0.19355</td></tr><tr><td>null</td><td>0.0</td><td>0.0</td><td>0.0</td><td>0.0</td><td>0.0</td><td>0.0</td><td>&quot;2024-02-11&quot;</td><td>0.16605</td><td>-0.14208</td><td>0.19355</td></tr></tbody></table></div>"
      ],
      "text/plain": [
       "shape: (98, 11)\n",
       "┌───────┬─────────────┬──────────┬───────────┬───┬─────────────┬────────────┬───────────┬──────────┐\n",
       "│ descr ┆ bitcoin-cas ┆ dogecoin ┆ z         ┆ … ┆ date        ┆ cumulative ┆ drawdown  ┆ roll_max │\n",
       "│ ---   ┆ h           ┆ ---      ┆ ---       ┆   ┆ ---         ┆ _pnl       ┆ ---       ┆ ---      │\n",
       "│ str   ┆ ---         ┆ f64      ┆ f64       ┆   ┆ str         ┆ ---        ┆ f64       ┆ f64      │\n",
       "│       ┆ f64         ┆          ┆           ┆   ┆             ┆ f64        ┆           ┆          │\n",
       "╞═══════╪═════════════╪══════════╪═══════════╪═══╪═════════════╪════════════╪═══════════╪══════════╡\n",
       "│ close ┆ 238.503769  ┆ 0.071241 ┆ -0.235986 ┆ … ┆ 2023-11-06  ┆ 0.163187   ┆ -0.156873 ┆ 0.19355  │\n",
       "│ short ┆             ┆          ┆           ┆   ┆             ┆            ┆           ┆          │\n",
       "│ null  ┆ 0.0         ┆ 0.0      ┆ 0.0       ┆ … ┆ 2023-11-07  ┆ 0.163187   ┆ -0.156873 ┆ 0.19355  │\n",
       "│ long  ┆ 246.020996  ┆ 0.075554 ┆ -0.516764 ┆ … ┆ 2023-11-08  ┆ 0.163187   ┆ -0.156873 ┆ 0.19355  │\n",
       "│ null  ┆ 0.0         ┆ 0.0      ┆ 0.0       ┆ … ┆ 2023-11-09  ┆ 0.163187   ┆ -0.156873 ┆ 0.19355  │\n",
       "│ null  ┆ 0.0         ┆ 0.0      ┆ 0.0       ┆ … ┆ 2023-11-10  ┆ 0.163187   ┆ -0.156873 ┆ 0.19355  │\n",
       "│ …     ┆ …           ┆ …        ┆ …         ┆ … ┆ …           ┆ …          ┆ …         ┆ …        │\n",
       "│ null  ┆ 0.0         ┆ 0.0      ┆ 0.0       ┆ … ┆ 2024-02-07  ┆ 0.16605    ┆ -0.14208  ┆ 0.19355  │\n",
       "│ null  ┆ 0.0         ┆ 0.0      ┆ 0.0       ┆ … ┆ 2024-02-08  ┆ 0.16605    ┆ -0.14208  ┆ 0.19355  │\n",
       "│ null  ┆ 0.0         ┆ 0.0      ┆ 0.0       ┆ … ┆ 2024-02-09  ┆ 0.16605    ┆ -0.14208  ┆ 0.19355  │\n",
       "│ null  ┆ 0.0         ┆ 0.0      ┆ 0.0       ┆ … ┆ 2024-02-10  ┆ 0.16605    ┆ -0.14208  ┆ 0.19355  │\n",
       "│ null  ┆ 0.0         ┆ 0.0      ┆ 0.0       ┆ … ┆ 2024-02-11  ┆ 0.16605    ┆ -0.14208  ┆ 0.19355  │\n",
       "└───────┴─────────────┴──────────┴───────────┴───┴─────────────┴────────────┴───────────┴──────────┘"
      ]
     },
     "execution_count": 39,
     "metadata": {},
     "output_type": "execute_result"
    }
   ],
   "source": [
    "df_returns = df_returns.with_columns(\n",
    "    roll_max = pl.col('cumulative_pnl').cum_max()\n",
    ").with_columns(\n",
    "    drawdown = pl.col('cumulative_pnl')/pl.col('roll_max') - 1.0\n",
    ")\n",
    "\n",
    "df_returns[['cumulative_pnl', 'drawdown']].plot()"
   ]
  }
 ],
 "metadata": {
  "kernelspec": {
   "display_name": ".venv",
   "language": "python",
   "name": "python3"
  },
  "language_info": {
   "codemirror_mode": {
    "name": "ipython",
    "version": 3
   },
   "file_extension": ".py",
   "mimetype": "text/x-python",
   "name": "python",
   "nbconvert_exporter": "python",
   "pygments_lexer": "ipython3",
   "version": "3.11.5"
  }
 },
 "nbformat": 4,
 "nbformat_minor": 2
}
