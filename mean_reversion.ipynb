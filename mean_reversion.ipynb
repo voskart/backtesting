{
 "cells": [
  {
   "cell_type": "markdown",
   "metadata": {},
   "source": [
    "# Strategy\n",
    "\n",
    "Prior to diving into the strategy itself, we will gather the required data. I am using the Coingecko API as my Velodata access is limited and I am not able to get the required 365 days historic data."
   ]
  },
  {
   "cell_type": "code",
   "execution_count": 23,
   "metadata": {},
   "outputs": [],
   "source": [
    "import polars as pl\n",
    "import pycoingecko\n",
    "\n",
    "cg = pycoingecko.CoinGeckoAPI()\n",
    "\n",
    "coin_list = ['aptos', 'arbitrum', 'avalanche-2', 'binancecoin', 'bitcoin-cash', 'bitcoin', 'bonk', 'cardano', 'celestia', 'chainlink', 'cosmos', 'dogecoin', 'dogwifcoin', 'ethereum', 'floki', 'injective-protocol', 'litecoin', 'matic-network', 'near', 'notcoin', 'optimism', 'pepe', 'polkadot', 'ripple', 'shiba-inu', 'solana', 'sui', 'the-open-network', 'thorchain', 'tron']\n",
    "\n",
    "df_prices = pl.DataFrame()\n",
    "\n",
    "for coin in coin_list:\n",
    "    data = cg.get_coin_market_chart_by_id(coin, 'usd', 365)\n",
    "    df_coin = (pl.DataFrame(data['prices'], strict=False)\n",
    "               .transpose()\n",
    "               .with_columns(pl.lit(coin).alias('ticker'), \n",
    "                             pl.all().cast(pl.String))\n",
    "               )\n",
    "    df_coin.write_csv(f\"./data/{coin}.csv\")"
   ]
  },
  {
   "cell_type": "markdown",
   "metadata": {},
   "source": [
    "Next, we combine and clean up the dataframe."
   ]
  },
  {
   "cell_type": "code",
   "execution_count": 43,
   "metadata": {},
   "outputs": [
    {
     "data": {
      "text/html": [
       "<div><style>\n",
       ".dataframe > thead > tr,\n",
       ".dataframe > tbody > tr {\n",
       "  text-align: right;\n",
       "  white-space: pre-wrap;\n",
       "}\n",
       "</style>\n",
       "<small>shape: (10_490, 3)</small><table border=\"1\" class=\"dataframe\"><thead><tr><th>ticker</th><th>timestamp</th><th>price</th></tr><tr><td>str</td><td>date</td><td>f32</td></tr></thead><tbody><tr><td>&quot;aptos&quot;</td><td>2023-08-11</td><td>7.09712</td></tr><tr><td>&quot;arbitrum&quot;</td><td>2023-08-11</td><td>1.157507</td></tr><tr><td>&quot;avalanche-2&quot;</td><td>2023-08-11</td><td>12.440173</td></tr><tr><td>&quot;binancecoin&quot;</td><td>2023-08-11</td><td>239.595825</td></tr><tr><td>&quot;bitcoin-cash&quot;</td><td>2023-08-11</td><td>228.957672</td></tr><tr><td>&hellip;</td><td>&hellip;</td><td>&hellip;</td></tr><tr><td>&quot;the-open-network&quot;</td><td>2024-08-10</td><td>6.665984</td></tr><tr><td>&quot;thorchain&quot;</td><td>2024-08-10</td><td>3.23603</td></tr><tr><td>&quot;thorchain&quot;</td><td>2024-08-10</td><td>3.230335</td></tr><tr><td>&quot;tron&quot;</td><td>2024-08-10</td><td>0.128453</td></tr><tr><td>&quot;tron&quot;</td><td>2024-08-10</td><td>0.128265</td></tr></tbody></table></div>"
      ],
      "text/plain": [
       "shape: (10_490, 3)\n",
       "┌──────────────────┬────────────┬────────────┐\n",
       "│ ticker           ┆ timestamp  ┆ price      │\n",
       "│ ---              ┆ ---        ┆ ---        │\n",
       "│ str              ┆ date       ┆ f32        │\n",
       "╞══════════════════╪════════════╪════════════╡\n",
       "│ aptos            ┆ 2023-08-11 ┆ 7.09712    │\n",
       "│ arbitrum         ┆ 2023-08-11 ┆ 1.157507   │\n",
       "│ avalanche-2      ┆ 2023-08-11 ┆ 12.440173  │\n",
       "│ binancecoin      ┆ 2023-08-11 ┆ 239.595825 │\n",
       "│ bitcoin-cash     ┆ 2023-08-11 ┆ 228.957672 │\n",
       "│ …                ┆ …          ┆ …          │\n",
       "│ the-open-network ┆ 2024-08-10 ┆ 6.665984   │\n",
       "│ thorchain        ┆ 2024-08-10 ┆ 3.23603    │\n",
       "│ thorchain        ┆ 2024-08-10 ┆ 3.230335   │\n",
       "│ tron             ┆ 2024-08-10 ┆ 0.128453   │\n",
       "│ tron             ┆ 2024-08-10 ┆ 0.128265   │\n",
       "└──────────────────┴────────────┴────────────┘"
      ]
     },
     "execution_count": 43,
     "metadata": {},
     "output_type": "execute_result"
    }
   ],
   "source": [
    "try:\n",
    "    df = (\n",
    "        pl.scan_csv(f\"./data/*.csv\", infer_schema_length=0).with_columns(\n",
    "            pl.from_epoch(pl.col('column_0').cast(pl.Float32), time_unit='ms').alias('timestamp'),\n",
    "            pl.col('column_1').cast(pl.Float32).alias('price')\n",
    "        ).drop(\n",
    "            ['column_0', 'column_1']\n",
    "        )\n",
    "    )\n",
    "except pl.exceptions.ComputeError as e:\n",
    "    raise(e)\n",
    "\n",
    "df = df.collect()\n",
    "\n",
    "# round the timestamp\n",
    "df.with_columns(\n",
    "    pl.col('timestamp').dt.date()\n",
    ").sort(['timestamp'])"
   ]
  }
 ],
 "metadata": {
  "kernelspec": {
   "display_name": "Python 3",
   "language": "python",
   "name": "python3"
  },
  "language_info": {
   "codemirror_mode": {
    "name": "ipython",
    "version": 3
   },
   "file_extension": ".py",
   "mimetype": "text/x-python",
   "name": "python",
   "nbconvert_exporter": "python",
   "pygments_lexer": "ipython3",
   "version": "3.11.5"
  }
 },
 "nbformat": 4,
 "nbformat_minor": 2
}
