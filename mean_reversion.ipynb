{
 "cells": [
  {
   "cell_type": "markdown",
   "metadata": {},
   "source": [
    "# Mean-Reversion\n",
    "\n",
    "## Data Cleaning\n",
    "\n",
    "Prior to diving into the strategy itself, we will gather the required data. I am using the Coingecko API as my Velodata access is limited and I am not able to get the required 365 days historic data."
   ]
  },
  {
   "cell_type": "code",
   "execution_count": 19,
   "metadata": {},
   "outputs": [],
   "source": [
    "import polars as pl\n",
    "import pycoingecko\n",
    "\n",
    "cg = pycoingecko.CoinGeckoAPI()\n",
    "\n",
    "coin_list = ['aptos', 'arbitrum', 'avalanche-2', 'binancecoin', 'bitcoin-cash', 'bitcoin', 'bonk', 'cardano', 'celestia', 'chainlink', 'cosmos', 'dogecoin', 'dogwifcoin', 'ethereum', 'floki', 'injective-protocol', 'litecoin', 'matic-network', 'near', 'notcoin', 'optimism', 'pepe', 'polkadot', 'ripple', 'shiba-inu', 'solana', 'sui', 'the-open-network', 'thorchain', 'tron']\n",
    "load = 0\n",
    "\n",
    "if load:\n",
    "    for coin in coin_list:\n",
    "        data = cg.get_coin_market_chart_by_id(coin, 'usd', 365)\n",
    "        df_coin = (pl.DataFrame(data['prices'], strict=False)\n",
    "                .transpose()\n",
    "                .with_columns(pl.lit(coin).alias('ticker'), \n",
    "                                pl.all().cast(pl.String))\n",
    "                )\n",
    "        df_coin.write_csv(f\"./data/{coin}.csv\")"
   ]
  },
  {
   "cell_type": "markdown",
   "metadata": {},
   "source": [
    "Next, we combine and clean up the dataframe."
   ]
  },
  {
   "cell_type": "code",
   "execution_count": 20,
   "metadata": {},
   "outputs": [],
   "source": [
    "try:\n",
    "    df = (\n",
    "        pl.scan_csv(f\"./data/*.csv\", infer_schema_length=0).with_columns(\n",
    "            pl.from_epoch(pl.col('column_0').cast(pl.Float32), time_unit='ms').alias('timestamp'),\n",
    "            pl.col('column_1').cast(pl.Float32).alias('price')\n",
    "        ).drop(\n",
    "            ['column_0', 'column_1']\n",
    "        )\n",
    "    )\n",
    "except pl.exceptions.ComputeError as e:\n",
    "    raise(e)\n",
    "\n",
    "df = df.collect()\n",
    "\n",
    "# round the timestamp\n",
    "df = df.with_columns(\n",
    "    pl.col('timestamp').dt.date()\n",
    ").sort(['timestamp'])"
   ]
  },
  {
   "cell_type": "markdown",
   "metadata": {},
   "source": [
    "## Exploratory Data Analysis\n",
    "\n",
    "### Data Gaps\n",
    "\n",
    "Next, we will take a look at tokens where a significant amount of data is missing. Unsurprisingly, Notcoin, DogWifHat and Celestia do not have a full year of data."
   ]
  },
  {
   "cell_type": "code",
   "execution_count": 21,
   "metadata": {},
   "outputs": [
    {
     "name": "stderr",
     "output_type": "stream",
     "text": [
      "C:\\Users\\vosko\\AppData\\Local\\Temp\\ipykernel_17292\\138382080.py:1: DeprecationWarning: `pl.count()` is deprecated. Please use `pl.len()` instead.\n",
      "  df.group_by('ticker').agg(pl.count()).sort('count').head(10)\n"
     ]
    },
    {
     "data": {
      "text/html": [
       "<div><style>\n",
       ".dataframe > thead > tr,\n",
       ".dataframe > tbody > tr {\n",
       "  text-align: right;\n",
       "  white-space: pre-wrap;\n",
       "}\n",
       "</style>\n",
       "<small>shape: (10, 2)</small><table border=\"1\" class=\"dataframe\"><thead><tr><th>ticker</th><th>count</th></tr><tr><td>str</td><td>u32</td></tr></thead><tbody><tr><td>&quot;notcoin&quot;</td><td>87</td></tr><tr><td>&quot;dogwifcoin&quot;</td><td>243</td></tr><tr><td>&quot;celestia&quot;</td><td>286</td></tr><tr><td>&quot;litecoin&quot;</td><td>365</td></tr><tr><td>&quot;dogecoin&quot;</td><td>365</td></tr><tr><td>&quot;polkadot&quot;</td><td>365</td></tr><tr><td>&quot;solana&quot;</td><td>365</td></tr><tr><td>&quot;bitcoin&quot;</td><td>365</td></tr><tr><td>&quot;injective-protocol&quot;</td><td>365</td></tr><tr><td>&quot;bitcoin-cash&quot;</td><td>365</td></tr></tbody></table></div>"
      ],
      "text/plain": [
       "shape: (10, 2)\n",
       "┌────────────────────┬───────┐\n",
       "│ ticker             ┆ count │\n",
       "│ ---                ┆ ---   │\n",
       "│ str                ┆ u32   │\n",
       "╞════════════════════╪═══════╡\n",
       "│ notcoin            ┆ 87    │\n",
       "│ dogwifcoin         ┆ 243   │\n",
       "│ celestia           ┆ 286   │\n",
       "│ litecoin           ┆ 365   │\n",
       "│ dogecoin           ┆ 365   │\n",
       "│ polkadot           ┆ 365   │\n",
       "│ solana             ┆ 365   │\n",
       "│ bitcoin            ┆ 365   │\n",
       "│ injective-protocol ┆ 365   │\n",
       "│ bitcoin-cash       ┆ 365   │\n",
       "└────────────────────┴───────┘"
      ]
     },
     "execution_count": 21,
     "metadata": {},
     "output_type": "execute_result"
    }
   ],
   "source": [
    "df.group_by('ticker').agg(pl.count()).sort('count').head(10)"
   ]
  },
  {
   "cell_type": "markdown",
   "metadata": {},
   "source": [
    "### Strategy\n",
    "\n",
    "The strategy that we will be looking at is pair-trading which will make use of longing and shorting an asset at the same time. Essentially, we are trying to long/short the spread between the two assets. As a start, we will look at correlations amongst the prices."
   ]
  },
  {
   "cell_type": "code",
   "execution_count": 23,
   "metadata": {},
   "outputs": [
    {
     "ename": "ComputeError",
     "evalue": "found multiple elements in the same group, please specify an aggregation function",
     "output_type": "error",
     "traceback": [
      "\u001b[1;31m---------------------------------------------------------------------------\u001b[0m",
      "\u001b[1;31mComputeError\u001b[0m                              Traceback (most recent call last)",
      "Cell \u001b[1;32mIn[23], line 2\u001b[0m\n\u001b[0;32m      1\u001b[0m \u001b[38;5;66;03m# pivot table\u001b[39;00m\n\u001b[1;32m----> 2\u001b[0m \u001b[43mdf\u001b[49m\u001b[38;5;241;43m.\u001b[39;49m\u001b[43mpivot\u001b[49m\u001b[43m(\u001b[49m\u001b[43mindex\u001b[49m\u001b[38;5;241;43m=\u001b[39;49m\u001b[38;5;124;43m'\u001b[39;49m\u001b[38;5;124;43mtimestamp\u001b[39;49m\u001b[38;5;124;43m'\u001b[39;49m\u001b[43m,\u001b[49m\u001b[43m \u001b[49m\u001b[43mvalues\u001b[49m\u001b[38;5;241;43m=\u001b[39;49m\u001b[38;5;124;43m'\u001b[39;49m\u001b[38;5;124;43mprice\u001b[39;49m\u001b[38;5;124;43m'\u001b[39;49m\u001b[43m,\u001b[49m\u001b[43m \u001b[49m\u001b[43mon\u001b[49m\u001b[38;5;241;43m=\u001b[39;49m\u001b[38;5;124;43m'\u001b[39;49m\u001b[38;5;124;43mticker\u001b[39;49m\u001b[38;5;124;43m'\u001b[39;49m\u001b[43m)\u001b[49m\n",
      "File \u001b[1;32mc:\\Users\\vosko\\Documents\\coding\\backtesting\\.venv\\Lib\\site-packages\\polars\\_utils\\deprecation.py:91\u001b[0m, in \u001b[0;36mdeprecate_renamed_parameter.<locals>.decorate.<locals>.wrapper\u001b[1;34m(*args, **kwargs)\u001b[0m\n\u001b[0;32m     86\u001b[0m \u001b[38;5;129m@wraps\u001b[39m(function)\n\u001b[0;32m     87\u001b[0m \u001b[38;5;28;01mdef\u001b[39;00m \u001b[38;5;21mwrapper\u001b[39m(\u001b[38;5;241m*\u001b[39margs: P\u001b[38;5;241m.\u001b[39margs, \u001b[38;5;241m*\u001b[39m\u001b[38;5;241m*\u001b[39mkwargs: P\u001b[38;5;241m.\u001b[39mkwargs) \u001b[38;5;241m-\u001b[39m\u001b[38;5;241m>\u001b[39m T:\n\u001b[0;32m     88\u001b[0m     _rename_keyword_argument(\n\u001b[0;32m     89\u001b[0m         old_name, new_name, kwargs, function\u001b[38;5;241m.\u001b[39m\u001b[38;5;18m__qualname__\u001b[39m, version\n\u001b[0;32m     90\u001b[0m     )\n\u001b[1;32m---> 91\u001b[0m     \u001b[38;5;28;01mreturn\u001b[39;00m \u001b[43mfunction\u001b[49m\u001b[43m(\u001b[49m\u001b[38;5;241;43m*\u001b[39;49m\u001b[43margs\u001b[49m\u001b[43m,\u001b[49m\u001b[43m \u001b[49m\u001b[38;5;241;43m*\u001b[39;49m\u001b[38;5;241;43m*\u001b[39;49m\u001b[43mkwargs\u001b[49m\u001b[43m)\u001b[49m\n",
      "File \u001b[1;32mc:\\Users\\vosko\\Documents\\coding\\backtesting\\.venv\\Lib\\site-packages\\polars\\dataframe\\frame.py:8030\u001b[0m, in \u001b[0;36mDataFrame.pivot\u001b[1;34m(self, on, index, values, aggregate_function, maintain_order, sort_columns, separator)\u001b[0m\n\u001b[0;32m   8026\u001b[0m \u001b[38;5;28;01melse\u001b[39;00m:\n\u001b[0;32m   8027\u001b[0m     aggregate_expr \u001b[38;5;241m=\u001b[39m aggregate_function\u001b[38;5;241m.\u001b[39m_pyexpr\n\u001b[0;32m   8029\u001b[0m \u001b[38;5;28;01mreturn\u001b[39;00m \u001b[38;5;28mself\u001b[39m\u001b[38;5;241m.\u001b[39m_from_pydf(\n\u001b[1;32m-> 8030\u001b[0m     \u001b[38;5;28;43mself\u001b[39;49m\u001b[38;5;241;43m.\u001b[39;49m\u001b[43m_df\u001b[49m\u001b[38;5;241;43m.\u001b[39;49m\u001b[43mpivot_expr\u001b[49m\u001b[43m(\u001b[49m\n\u001b[0;32m   8031\u001b[0m \u001b[43m        \u001b[49m\u001b[43mon\u001b[49m\u001b[43m,\u001b[49m\n\u001b[0;32m   8032\u001b[0m \u001b[43m        \u001b[49m\u001b[43mindex\u001b[49m\u001b[43m,\u001b[49m\n\u001b[0;32m   8033\u001b[0m \u001b[43m        \u001b[49m\u001b[43mvalues\u001b[49m\u001b[43m,\u001b[49m\n\u001b[0;32m   8034\u001b[0m \u001b[43m        \u001b[49m\u001b[43mmaintain_order\u001b[49m\u001b[43m,\u001b[49m\n\u001b[0;32m   8035\u001b[0m \u001b[43m        \u001b[49m\u001b[43msort_columns\u001b[49m\u001b[43m,\u001b[49m\n\u001b[0;32m   8036\u001b[0m \u001b[43m        \u001b[49m\u001b[43maggregate_expr\u001b[49m\u001b[43m,\u001b[49m\n\u001b[0;32m   8037\u001b[0m \u001b[43m        \u001b[49m\u001b[43mseparator\u001b[49m\u001b[43m,\u001b[49m\n\u001b[0;32m   8038\u001b[0m \u001b[43m    \u001b[49m\u001b[43m)\u001b[49m\n\u001b[0;32m   8039\u001b[0m )\n",
      "\u001b[1;31mComputeError\u001b[0m: found multiple elements in the same group, please specify an aggregation function"
     ]
    }
   ],
   "source": [
    "# pivot table\n",
    "df.pivot(index='timestamp', values='price', on='ticker', aggregate_function='first')"
   ]
  }
 ],
 "metadata": {
  "kernelspec": {
   "display_name": "Python 3",
   "language": "python",
   "name": "python3"
  },
  "language_info": {
   "codemirror_mode": {
    "name": "ipython",
    "version": 3
   },
   "file_extension": ".py",
   "mimetype": "text/x-python",
   "name": "python",
   "nbconvert_exporter": "python",
   "pygments_lexer": "ipython3",
   "version": "3.11.5"
  }
 },
 "nbformat": 4,
 "nbformat_minor": 2
}
