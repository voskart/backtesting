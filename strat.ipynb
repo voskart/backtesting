{
 "cells": [
  {
   "cell_type": "markdown",
   "metadata": {},
   "source": [
    "# Strategy\n",
    "\n",
    "Prior to diving into the strategy itself, we will generate the token universe based on the outlined conditions. For the sake of simplicity we will refer to tokens that are traded on Binance."
   ]
  },
  {
   "cell_type": "code",
   "execution_count": 10,
   "metadata": {},
   "outputs": [
    {
     "data": {
      "text/html": [
       "<div><style>\n",
       ".dataframe > thead > tr,\n",
       ".dataframe > tbody > tr {\n",
       "  text-align: right;\n",
       "  white-space: pre-wrap;\n",
       "}\n",
       "</style>\n",
       "<small>shape: (261, 6)</small><table border=\"1\" class=\"dataframe\"><thead><tr><th>coin</th><th>exchange</th><th>product</th><th>time</th><th>dollar_volume</th><th>date</th></tr><tr><td>str</td><td>str</td><td>str</td><td>i64</td><td>f64</td><td>datetime[ms]</td></tr></thead><tbody><tr><td>&quot;BTC&quot;</td><td>&quot;binance-futures&quot;</td><td>&quot;BTCUSDT&quot;</td><td>1723075200000</td><td>4.5036e9</td><td>2024-08-08 00:00:00</td></tr><tr><td>&quot;ETH&quot;</td><td>&quot;binance-futures&quot;</td><td>&quot;ETHUSDT&quot;</td><td>1723075200000</td><td>1.6371e9</td><td>2024-08-08 00:00:00</td></tr><tr><td>&quot;SOL&quot;</td><td>&quot;binance-futures&quot;</td><td>&quot;SOLUSDT&quot;</td><td>1723075200000</td><td>5.8075e8</td><td>2024-08-08 00:00:00</td></tr><tr><td>&quot;WIF&quot;</td><td>&quot;binance-futures&quot;</td><td>&quot;WIFUSDT&quot;</td><td>1723075200000</td><td>1.7776e8</td><td>2024-08-08 00:00:00</td></tr><tr><td>&quot;1000PEPE&quot;</td><td>&quot;binance-futures&quot;</td><td>&quot;1000PEPEUSDT&quot;</td><td>1723075200000</td><td>1.6093e8</td><td>2024-08-08 00:00:00</td></tr><tr><td>&hellip;</td><td>&hellip;</td><td>&hellip;</td><td>&hellip;</td><td>&hellip;</td><td>&hellip;</td></tr><tr><td>&quot;OXT&quot;</td><td>&quot;binance-futures&quot;</td><td>&quot;OXTUSDT&quot;</td><td>1723075200000</td><td>378893.437</td><td>2024-08-08 00:00:00</td></tr><tr><td>&quot;RLC&quot;</td><td>&quot;binance-futures&quot;</td><td>&quot;RLCUSDT&quot;</td><td>1723075200000</td><td>355041.811</td><td>2024-08-08 00:00:00</td></tr><tr><td>&quot;BNT&quot;</td><td>&quot;binance-futures&quot;</td><td>&quot;BNTUSDT&quot;</td><td>1723075200000</td><td>349837.327</td><td>2024-08-08 00:00:00</td></tr><tr><td>&quot;JOE&quot;</td><td>&quot;binance-futures&quot;</td><td>&quot;JOEUSDT&quot;</td><td>1723075200000</td><td>347662.735</td><td>2024-08-08 00:00:00</td></tr><tr><td>&quot;STEEM&quot;</td><td>&quot;binance-futures&quot;</td><td>&quot;STEEMUSDT&quot;</td><td>1723075200000</td><td>320929.408</td><td>2024-08-08 00:00:00</td></tr></tbody></table></div>"
      ],
      "text/plain": [
       "shape: (261, 6)\n",
       "┌──────────┬─────────────────┬──────────────┬───────────────┬───────────────┬─────────────────────┐\n",
       "│ coin     ┆ exchange        ┆ product      ┆ time          ┆ dollar_volume ┆ date                │\n",
       "│ ---      ┆ ---             ┆ ---          ┆ ---           ┆ ---           ┆ ---                 │\n",
       "│ str      ┆ str             ┆ str          ┆ i64           ┆ f64           ┆ datetime[ms]        │\n",
       "╞══════════╪═════════════════╪══════════════╪═══════════════╪═══════════════╪═════════════════════╡\n",
       "│ BTC      ┆ binance-futures ┆ BTCUSDT      ┆ 1723075200000 ┆ 4.5036e9      ┆ 2024-08-08 00:00:00 │\n",
       "│ ETH      ┆ binance-futures ┆ ETHUSDT      ┆ 1723075200000 ┆ 1.6371e9      ┆ 2024-08-08 00:00:00 │\n",
       "│ SOL      ┆ binance-futures ┆ SOLUSDT      ┆ 1723075200000 ┆ 5.8075e8      ┆ 2024-08-08 00:00:00 │\n",
       "│ WIF      ┆ binance-futures ┆ WIFUSDT      ┆ 1723075200000 ┆ 1.7776e8      ┆ 2024-08-08 00:00:00 │\n",
       "│ 1000PEPE ┆ binance-futures ┆ 1000PEPEUSDT ┆ 1723075200000 ┆ 1.6093e8      ┆ 2024-08-08 00:00:00 │\n",
       "│ …        ┆ …               ┆ …            ┆ …             ┆ …             ┆ …                   │\n",
       "│ OXT      ┆ binance-futures ┆ OXTUSDT      ┆ 1723075200000 ┆ 378893.437    ┆ 2024-08-08 00:00:00 │\n",
       "│ RLC      ┆ binance-futures ┆ RLCUSDT      ┆ 1723075200000 ┆ 355041.811    ┆ 2024-08-08 00:00:00 │\n",
       "│ BNT      ┆ binance-futures ┆ BNTUSDT      ┆ 1723075200000 ┆ 349837.327    ┆ 2024-08-08 00:00:00 │\n",
       "│ JOE      ┆ binance-futures ┆ JOEUSDT      ┆ 1723075200000 ┆ 347662.735    ┆ 2024-08-08 00:00:00 │\n",
       "│ STEEM    ┆ binance-futures ┆ STEEMUSDT    ┆ 1723075200000 ┆ 320929.408    ┆ 2024-08-08 00:00:00 │\n",
       "└──────────┴─────────────────┴──────────────┴───────────────┴───────────────┴─────────────────────┘"
      ]
     },
     "execution_count": 10,
     "metadata": {},
     "output_type": "execute_result"
    }
   ],
   "source": [
    "from velodata import lib as velo\n",
    "from dotenv import load_dotenv\n",
    "\n",
    "import os\n",
    "import polars as pl\n",
    "\n",
    "load_dotenv()\n",
    "\n",
    "day_in_ms = 1000 * 60 * 60 * 24\n",
    "client = velo.client(os.environ.get('VELO_API_KEY'))\n",
    "\n",
    "futs = client.get_products('futures')\n",
    "\n",
    "# filter based on futures on binance\n",
    "filtered_instruments = [f['coin'] for f in futs if f['exchange'] == 'binance-futures']\n",
    "\n",
    "# next get the top 30 based by 24h volume\n",
    "volumes = client.get_rows({\n",
    "  'type': 'futures',\n",
    "  'exchanges': ['binance-futures'],\n",
    "  'coins': filtered_instruments,\n",
    "  'begin': client.timestamp() - day_in_ms,\n",
    "  'end': client.timestamp(),\n",
    "  'columns': ['dollar_volume'],\n",
    "  'resolution': 60 * 24\n",
    "})\n",
    "\n",
    "df_volumes =  (\n",
    "  pl.DataFrame(volumes).with_columns(\n",
    "        pl.from_epoch(\"time\", time_unit=\"ms\").alias(\"date\")\n",
    "  )\n",
    "  .group_by(\"coin\")\n",
    "  .first()\n",
    "  ).sort(\"dollar_volume\", descending=True)\n",
    "\n",
    "df_volumes\n"
   ]
  },
  {
   "cell_type": "code",
   "execution_count": 3,
   "metadata": {},
   "outputs": [],
   "source": [
    "\n",
    "# get daily candles for the past two years\n",
    "params = {\n",
    "      'type': 'futures',\n",
    "      'columns': ['open_price', 'close_price'],\n",
    "      'exchanges': ['binance-futures'],\n",
    "      'products': ['ETHUSDT'],\n",
    "      'begin': client.timestamp() - day_in_ms * 90,\n",
    "      'end': client.timestamp(),\n",
    "      'resolution': 1 * 60 * 24\n",
    "    }\n",
    "    \n",
    "# returns dataframe\n",
    "# batches = client.batch_rows(params)  \n",
    "\n",
    "# for df in client.stream_rows(batches):\n",
    "#   print(df)\n",
    "  "
   ]
  }
 ],
 "metadata": {
  "kernelspec": {
   "display_name": "Python 3",
   "language": "python",
   "name": "python3"
  },
  "language_info": {
   "codemirror_mode": {
    "name": "ipython",
    "version": 3
   },
   "file_extension": ".py",
   "mimetype": "text/x-python",
   "name": "python",
   "nbconvert_exporter": "python",
   "pygments_lexer": "ipython3",
   "version": "3.11.5"
  }
 },
 "nbformat": 4,
 "nbformat_minor": 2
}
